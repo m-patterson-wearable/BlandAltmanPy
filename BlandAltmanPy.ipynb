{
 "cells": [
  {
   "cell_type": "code",
   "execution_count": 48,
   "metadata": {},
   "outputs": [],
   "source": [
    "a = [10,11,10,10,10,12,14,12,14,15]\n",
    "b = [10,11,11,16,11,10,14,10,10,10]"
   ]
  },
  {
   "cell_type": "code",
   "execution_count": 10,
   "metadata": {},
   "outputs": [],
   "source": [
    "import pandas as pd\n",
    "import numpy as np\n",
    "import matplotlib.pyplot as plt\n",
    "%matplotlib inline\n",
    "\n",
    "df = pd.read_csv('Data/sleep_data_hr.csv')"
   ]
  },
  {
   "cell_type": "code",
   "execution_count": 11,
   "metadata": {},
   "outputs": [
    {
     "data": {
      "text/plain": [
       "pandas.core.series.Series"
      ]
     },
     "execution_count": 11,
     "metadata": {},
     "output_type": "execute_result"
    }
   ],
   "source": [
    "type(df.sleep_L5)"
   ]
  },
  {
   "cell_type": "code",
   "execution_count": 49,
   "metadata": {},
   "outputs": [],
   "source": [
    "class BlandAltman():\n",
    "    \n",
    "    def __init__(self,gold_std,new_measure,averaged=False):\n",
    "        # set averaged to True if multiple observations from each participant are averaged together to get one value\n",
    "        import pandas as pd\n",
    "        \n",
    "        # Check that inputs are list or pandas series, convert to series if list\n",
    "        if isinstance(gold_std,list):\n",
    "            df = pd.DataFrame() # convert to pandas series\n",
    "            df['gold_std'] = gold_std\n",
    "            gold_std = df.gold_std\n",
    "        elif not isinstance(gold_std,pd.Series):\n",
    "            print('Error: Data type of gold_std is not a list or a Pandas series')\n",
    "            \n",
    "        if isinstance(new_measure,list):\n",
    "            df2 = pd.DataFrame() # convert to pandas series\n",
    "            df2['new_measure'] = new_measure\n",
    "            new_measure = df2.new_measure\n",
    "        elif not isinstance(new_measure,pd.Series):\n",
    "            print('Error: Data type of new_measure is not a list or a Pandas series')\n",
    "            \n",
    "        self.gold_std = gold_std\n",
    "        self.new_measure = new_measure\n",
    "        \n",
    "        # Calculate Bland-Altman statistics\n",
    "        diffs = gold_std - new_measure\n",
    "        self.mean_error = diffs.mean()\n",
    "        self.mean_absolute_error = diffs.abs().mean() \n",
    "        r = np.corrcoef(self.gold_std,self.new_measure)\n",
    "        self.correlation = r[0,1]  # correlation coefficient\n",
    "        diffs_std = diffs.std()    # 95% Confidence Intervals\n",
    "        corr_std = np.sqrt(2*(diffs_std**2)) # if observations are averaged, used corrected standard deviation\n",
    "        if averaged:\n",
    "            self.CI95 = [self.mean_error + 1.96 * corr_std, self.mean_error - 1.96 * corr_std]\n",
    "        else:\n",
    "            self.CI95 = [self.mean_error + 1.96 * diffs_std, self.mean_error - 1.96 * diffs_std]\n",
    "        \n",
    "    def print_stats(self):\n",
    "        print(\"Mean error = {}\".format(self.mean_error))\n",
    "        print(\"Mean absolute error = {}\".format(self.mean_absolute_error))\n",
    "        print(\"Correlation = {}\".format(self.correlation))\n",
    "        print(\"+95% Confidence Interval = {}\".format(self.CI95[0]))\n",
    "        print(\"-95% Confidence Interval = {}\".format(self.CI95[1]))\n",
    "\n",
    "    def scatter_plot(self,x_label='Gold Standard',y_label='New Measure',\n",
    "                    figure_size=(4,4), show_legend=True,\n",
    "                    the_title=' ', \n",
    "                    file_name='BlandAltman_ScatterPlot.pdf',\n",
    "                    is_journal=False):\n",
    "        import numpy as np\n",
    "        import matplotlib.pyplot as plt\n",
    "        %matplotlib inline\n",
    "        \n",
    "        if is_journal: # avoid use of type 3 fonts for journal paper acceptance\n",
    "            import matploblib\n",
    "            matplotlib.rcParams['pdf.fonttype'] = 42\n",
    "            matplotlib.rcParams['ps.fonttype'] = 42\n",
    "\n",
    "        fig = plt.figure(figsize=figure_size)\n",
    "        ax=fig.add_axes([0,0,1,1])\n",
    "        ax.scatter(self.gold_std,self.new_measure,label='Observations')\n",
    "        x_vals = np.array(ax.get_xlim())\n",
    "        ax.plot(x_vals,x_vals,'--',color='black',label='Line of Slope = 1')\n",
    "        ax.set_xlabel(x_label)\n",
    "        ax.set_ylabel(y_label)\n",
    "        ax.set_title(the_title)\n",
    "        ax.grid()\n",
    "        if show_legend:\n",
    "            ax.legend()\n",
    "        plt.savefig(file_name,bbox_inches='tight')\n",
    "        \n",
    "    def difference_plot(self,x_label='Difference between methods',\n",
    "                        y_label='Average of two methods',averaged=False,\n",
    "                        figure_size=(4,4),show_legend=True,\n",
    "                        the_title='',file_name='BlandAltman_DifferencePlot.pdf',\n",
    "                        is_journal=False):\n",
    "        \n",
    "        import numpy as np\n",
    "        import matplotlib.pyplot as plt\n",
    "        %matplotlib inline\n",
    "        \n",
    "        if is_journal: # avoid use of type 3 fonts for journal paper acceptance\n",
    "            import matploblib\n",
    "            matplotlib.rcParams['pdf.fonttype'] = 42\n",
    "            matplotlib.rcParams['ps.fonttype'] = 42\n",
    "        \n",
    "        diffs = self.gold_std - self.new_measure\n",
    "        avgs = (self.gold_std + self.new_measure) / 2\n",
    "        \n",
    "        fig = plt.figure(figsize=figure_size)\n",
    "        ax = fig.add_axes([0,0,1,1])\n",
    "        ax.scatter(avgs,diffs,label='Observations')\n",
    "        x_vals = np.array(ax.get_xlim())\n",
    "        ax.axhline(self.mean_error,color='black',label='Mean Error')\n",
    "        ax.axhline(self.CI95[0],color='black',linestyle='--',label='+95% Confidence Interval')\n",
    "        ax.axhline(self.CI95[1],color='black',linestyle='--',label='-95% Confidence Interval')\n",
    "        ax.set_ylabel(x_label)\n",
    "        ax.set_xlabel(y_label)\n",
    "        ax.set_title(the_title)\n",
    "        if show_legend:\n",
    "            ax.legend()\n",
    "        ax.grid()\n",
    "        plt.savefig(file_name,bbox_inches='tight')\n",
    "        "
   ]
  },
  {
   "cell_type": "code",
   "execution_count": 50,
   "metadata": {},
   "outputs": [],
   "source": [
    "compare = BlandAltman(a,b)"
   ]
  },
  {
   "cell_type": "code",
   "execution_count": 52,
   "metadata": {},
   "outputs": [
    {
     "data": {
      "image/png": "[encoded data removed]",
      "text/plain": [
       "<Figure size 288x288 with 1 Axes>"
      ]
     },
     "metadata": {
      "needs_background": "light"
     },
     "output_type": "display_data"
    }
   ],
   "source": [
    "compare.scatter_plot()"
   ]
  },
  {
   "cell_type": "code",
   "execution_count": null,
   "metadata": {},
   "outputs": [],
   "source": []
  }
 ],
 "metadata": {
  "kernelspec": {
   "display_name": "Python 3",
   "language": "python",
   "name": "python3"
  },
  "language_info": {
   "codemirror_mode": {
    "name": "ipython",
    "version": 3
   },
   "file_extension": ".py",
   "mimetype": "text/x-python",
   "name": "python",
   "nbconvert_exporter": "python",
   "pygments_lexer": "ipython3",
   "version": "3.7.1"
  }
 },
 "nbformat": 4,
 "nbformat_minor": 2
}
